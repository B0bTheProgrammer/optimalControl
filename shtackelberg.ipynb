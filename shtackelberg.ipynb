{
 "cells": [
  {
   "cell_type": "code",
   "execution_count": 1,
   "metadata": {},
   "outputs": [],
   "source": [
    "import matplotlib.pyplot as plt\n",
    "import numpy as np\n",
    "import num_methods\n"
   ]
  },
  {
   "cell_type": "code",
   "execution_count": 2,
   "metadata": {},
   "outputs": [],
   "source": [
    "#x : phi1 phi2 pho y11 y21 y12 y22\n",
    "agentsNum = 2\n",
    "g_constants = {'rhoMax': 1.0, 'nu': np.array([0.75, 0.75]), 'alpha': np.array([0.03, 0.03]), 'beta': np.array([0.1, 0.1]), 'z': np.array([1.75, 1.75]), 'k': 0.25, 'ics': np.array([1.0, 1.0, 0.0]), 'uMin': 0.0, 'uMax': 0.9, 'T': 1.0}\n",
    "g_stepSize = 0.01\n",
    "g_coefs = np.ones(4)\n",
    "\n",
    "def g_W(phi):\n",
    "    #phi: phi1 phi2\n",
    "    return phi\n",
    "\n",
    "def g_dW(phi):\n",
    "    return np.ones(phi.shape)\n",
    "    \n",
    "def g_R(phi):\n",
    "    return phi\n",
    "\n",
    "def g_dR(phi):\n",
    "    return np.ones(phi.shape)\n",
    "\n",
    "def g_C0(rho):\n",
    "    return rho\n",
    "\n",
    "def g_C(u):\n",
    "    return u*u*g_constants['alpha']\n",
    "\n",
    "def g_V(t):\n",
    "    res = np.zeros(agentsNum)\n",
    "    time = t / g_constants['T']\n",
    "    res[0] = max(g_coefs[0]*time + g_coefs[2], 0.0)\n",
    "    res[1] = max(g_coefs[1]*time + g_coefs[3], 0.0)\n",
    "    return res\n",
    "\n",
    "def parseX(x, agNum):\n",
    "    phi = x[:agNum]\n",
    "    rho = x[agNum]\n",
    "    y1 = x[agNum+1:2*agNum +1]\n",
    "    y2 = x[2*agNum +1: 3*agNum +1]\n",
    "    return phi,rho,y1,y2"
   ]
  },
  {
   "cell_type": "code",
   "execution_count": 3,
   "metadata": {},
   "outputs": [],
   "source": [
    "def agentResponse():\n",
    "    solver = num_methods.equations.EqSolver( shootingFunc, 2*agentsNum, constArgs=(g_constants['ics'], g_V), eps = g_stepSize )\n",
    "    y = solver.solve('Newton')\n",
    "    solver = num_methods.ode.ODESolver(ode, np.append(g_constants['ics'], y), [0.0, g_constants['T']], ufunc = ufunc, usize = agentsNum, constArgs=(g_constants['ics'], g_V), h=g_stepSize)\n",
    "    t, res, u = solver.solve('FinitDiff')\n",
    "    return t, res, u"
   ]
  },
  {
   "cell_type": "code",
   "execution_count": 4,
   "metadata": {},
   "outputs": [],
   "source": [
    "#constArgs - (ics, V(t))\n",
    "#ics : [phi10, phi20, rho0]\n",
    "def shootingFunc(y0, constArgs):\n",
    "    ics, V = constArgs\n",
    "    ics = np.append(ics, y0)#[phi10, phi20, rho0, y011, y021, y012, y022]\n",
    "    solver = num_methods.ode.ODESolver(ode, ics, [0.0, g_constants['T']], ufunc = ufunc, usize = agentsNum, constArgs = constArgs, h=g_stepSize)\n",
    "    _, res, _ = solver.solve('FinitDiff')\n",
    "    return res[agentsNum+1:3*agentsNum +1, -1]#agentsNum+1:3*agentsNum +1"
   ]
  },
  {
   "cell_type": "code",
   "execution_count": 5,
   "metadata": {},
   "outputs": [],
   "source": [
    "def ode(t, x, u, constArgs):\n",
    "    phi, rho, y1, y2 = parseX(x, agentsNum)\n",
    "    ics, V = constArgs\n",
    "    v = V(t)\n",
    "    #rho = np.full(agentsNum, rho)\n",
    "    W = g_W(phi)\n",
    "    dW = g_dW(phi)\n",
    "    res = np.zeros(x.shape)\n",
    "    res[:agentsNum] = -g_constants['beta']*phi + g_constants['nu'] * (g_constants['z']*g_R(phi) - W*g_C(u) - rho*v*W*(1.0-u)/g_constants['rhoMax'])\n",
    "    res[agentsNum] = -g_constants['k']*rho + W[0]*(1.0-u[0]) + W[1]*(1.0-u[1])\n",
    "    res[agentsNum+1:2*agentsNum +1] = -(y2*dW*(1.0 - u) - g_constants['beta']*y1 + (1.0 - g_constants['nu'] + g_constants['nu']*y1)*(g_constants['z']*g_dR(phi)-dW*g_C(u)-rho*v*dW*(1.0-u)/g_constants['rhoMax']))\n",
    "    res[2*agentsNum +1: 3*agentsNum +1] = -(-g_constants['k']*y2+(1.0 - g_constants['nu'] + g_constants['nu']*y1)*v*W*(1.0-u)/g_constants['rhoMax'])\n",
    "    return res\n",
    "    \n",
    "    "
   ]
  },
  {
   "cell_type": "code",
   "execution_count": 6,
   "metadata": {},
   "outputs": [],
   "source": [
    "def ufunc(t, x, constArgs):\n",
    "    '''функция оптимального ответа агентов'''\n",
    "    #x : phi1 phi2 pho y11 y12 y21 y22\n",
    "    ics, V = constArgs\n",
    "    def hamilt(x, u, v):\n",
    "        phi, rho, y1, y2 = parseX(x, agentsNum)\n",
    "        W = g_W(phi)\n",
    "        summ = np.full(agentsNum, -g_constants['k']*rho+W[0]*(1-u[0]) + W[1]*(1-u[1]))\n",
    "        rho = np.full(agentsNum, rho)\n",
    "        \n",
    "        res = y2*summ - g_constants['beta']*phi*y1 + (1-g_constants['nu']+g_constants['nu']*y1)*(g_constants['z']*g_R(phi)-W*u*u*g_constants['alpha']-rho/g_constants['rhoMax']*v*W*(1-u)) \n",
    "        \n",
    "        return res\n",
    "    \n",
    "    def optAnswer(u, args):\n",
    "        #args: (x, v)\n",
    "        x, v = args\n",
    "        phi, rho, y1, y2 = parseX(x, agentsNum)\n",
    "        rho = np.full(agentsNum, rho)        \n",
    "        d2H = (1.0 - g_constants['nu'] + g_constants['nu']*y1)*(-g_W(phi)*2*g_constants['alpha'])\n",
    "        uStar = 0.5*(-y2*g_constants['rhoMax']+rho*v*(1.0 - g_constants['nu'] + g_constants['nu']*y1))/(g_constants['rhoMax']*g_constants['alpha']*(1.0 - g_constants['nu'] + g_constants['nu']*y1))\n",
    "        res = np.zeros(agentsNum)\n",
    "        #print(d2H,uStar)\n",
    "        for i in range(agentsNum):\n",
    "            if d2H[i] < 0:\n",
    "                if uStar[i] > g_constants['uMax']:\n",
    "                    res[i] = g_constants['uMax']\n",
    "                elif uStar[i] < g_constants['uMin']:\n",
    "                    res[i] = g_constants['uMin']\n",
    "                else:\n",
    "                    res[i] = uStar[i]\n",
    "            elif d2H[i] > 0:\n",
    "                if uStar[i] > g_constants['uMax']:\n",
    "                    res[i] = g_constants['uMin']\n",
    "                elif uStar[i] < g_constants['uMin']:\n",
    "                    res[i] = g_constants['uMax']\n",
    "                else:\n",
    "                    tmpUMax = u\n",
    "                    tmpUMin = u\n",
    "                    tmpUMax[i] = g_constants['uMax']\n",
    "                    tmpUMin[i] = g_constants['uMin']\n",
    "                    if hamilt(x, tmpUMax, v)[i] > hamilt(x, tmpUMin, v)[i]:\n",
    "                        res[i] = g_constants['uMax']\n",
    "                    else:\n",
    "                        res[i] = g_constants['uMin']\n",
    "            else:\n",
    "                raise ValueError\n",
    "    \n",
    "        return res - u\n",
    "    \n",
    "    v = V(t)\n",
    "    s = num_methods.equations.EqSolver(optAnswer, agentsNum, constArgs = (x, v), eps = g_stepSize, h = g_stepSize, maxiter = 250)\n",
    "    res = s.solve('Broyden')\n",
    "    return res\n",
    "    "
   ]
  },
  {
   "cell_type": "code",
   "execution_count": 7,
   "metadata": {},
   "outputs": [],
   "source": [
    "def supervisorFunc(t, x ,u):\n",
    "    v = g_V(t)\n",
    "    phi, rho, y1, y2 = parseX(x, agentsNum)\n",
    "    W = g_W(phi)\n",
    "    res = -g_C0(rho) + rho/g_constants['rhoMax']*(v[0]*W[0]*(1.0 - u[0]) + v[1]*W[1]*(1.0 - u[1]))\n",
    "    return res"
   ]
  },
  {
   "cell_type": "code",
   "execution_count": 17,
   "metadata": {},
   "outputs": [],
   "source": [
    "def stackelberg():\n",
    "    global g_coefs\n",
    "    g_coefs = np.random.rand(4)\n",
    "    d = 1.0\n",
    "    grad = np.ones(4)\n",
    "    while (np.array(abs(grad)).max() > 0.01 and d > 0.1):\n",
    "    #while (d > 0.005):\n",
    "        t, res, u = agentResponse()\n",
    "        s = num_methods.integrals.integralSolver(supervisorFunc, 1, t, res, u)\n",
    "        currGain = s.solve()\n",
    "        for i in range(4):\n",
    "            g_coefs[i] = g_coefs[i] + g_stepSize\n",
    "            t, res, u = agentResponse()\n",
    "            s = num_methods.integrals.integralSolver(supervisorFunc, 1, t, res, u)\n",
    "            tmpGain = s.solve()\n",
    "            g_coefs[i] = g_coefs[i] - g_stepSize\n",
    "            grad[i] = (tmpGain - currGain)/ g_stepSize\n",
    "         \n",
    "        print(grad, g_coefs, d, currGain)\n",
    "        g_coefs = g_coefs + grad*d\n",
    "        d = d*0.95\n",
    "    \n",
    "    t, res, u = agentResponse()\n",
    "    s = num_methods.integrals.integralSolver(supervisorFunc, 1, t, res, u)\n",
    "    gain = s.solve()\n",
    "    return gain, t, res, u"
   ]
  },
  {
   "cell_type": "code",
   "execution_count": null,
   "metadata": {},
   "outputs": [],
   "source": [
    "def stackelberg2():\n",
    "    pass"
   ]
  },
  {
   "cell_type": "code",
   "execution_count": 18,
   "metadata": {},
   "outputs": [
    {
     "name": "stdout",
     "output_type": "stream",
     "text": [
      "[-0.0395428  -0.51312951 -0.41471212 -0.47646633] [0.73548441 0.02050453 0.49418465 0.70929102] 1.0 [-0.1752213]\n",
      "[0.09647165 0.45147118 0.15087878 0.69685304] [ 0.69594161 -0.49262498  0.07947253  0.23282469] 0.95 [-0.67098934]\n",
      "[0.05240347 0.04375026 0.25111314 0.07458286] [ 0.78758968 -0.06372736  0.22280737  0.89483508] 0.9025 [-0.21478231]\n",
      "[0.03588652 0.03923566 0.35850162 0.24279249] [ 0.83488382 -0.02424275  0.44943698  0.96214611] 0.8573749999999999 [-0.16735039]\n",
      "[0.04545408 0.04900416 0.43956244 0.06131704] [0.86565202 0.00939692 0.75680731 1.17031032] 0.8145062499999999 [-0.11819411]\n",
      "[0.04055326 0.20278272 0.23507076 0.22720544] [0.90267465 0.04931112 1.11483367 1.22025344] 0.7737809374999999 [-0.08472359]\n",
      "[0.09377172 0.09360251 0.06242215 0.114339  ] [0.93405399 0.20622052 1.29672694 1.39606068] 0.7350918906249998 [-0.05589127]\n",
      "[0.02981951 0.03061466 0.06018858 0.05654535] [1.00298482 0.27502696 1.34261296 1.48011035] 0.6983372960937497 [-0.04343881]\n",
      "[0.03313621 0.03406694 0.05710098 0.05382609] [1.02380889 0.29640632 1.38464489 1.51959808] 0.6634204312890623 [-0.03720199]\n",
      "[0.03761329 0.03601437 0.05802018 0.0554119 ] [1.04579213 0.31900703 1.42252685 1.5553074 ] 0.6302494097246091 [-0.03138316]\n",
      "[0.0354707  0.03588281 0.05797693 0.05524729] [1.06949789 0.34170506 1.45909403 1.59023072] 0.5987369392383786 [-0.02566097]\n",
      "[0.03572901 0.03539483 0.05586339 0.05467072] [1.09073551 0.36318942 1.49380696 1.62330931] 0.5688000922764596 [-0.02031172]\n",
      "[0.03757011 0.03535823 0.05762162 0.05444042] [1.11105817 0.383322   1.52558207 1.65440602] 0.5403600876626365 [-0.01534861]\n",
      "[0.03637937 0.03931862 0.05896899 0.05449301] [1.13135956 0.40242818 1.55671849 1.68382345] 0.5133420832795047 [-0.01058008]\n",
      "[0.0409506  0.0393869  0.05476558 0.05474464] [1.15003462 0.42261209 1.58698975 1.71179701] 0.48767497911552943 [-0.00597167]\n",
      "[0.03619634 0.03505618 0.05490577 0.0546557 ] [1.17000521 0.44182009 1.61369755 1.7384946 ] 0.46329123015975293 [-0.00164031]\n",
      "[0.03657899 0.0358631  0.05414222 0.05457652] [1.18677466 0.45806131 1.63913492 1.76381611] 0.44012666865176525 [0.00232085]\n",
      "[0.03677774 0.03579263 0.05304532 0.05442578] [1.20287404 0.47384562 1.66296435 1.78783669] 0.41812033521917696 [0.00606486]\n",
      "[0.03676743 0.03596309 0.05316214 0.05418174] [1.21825157 0.48881125 1.68514368 1.81059322] 0.3972143184582181 [0.00958432]\n",
      "[0.03705374 0.03576355 0.05275187 0.05413954] [1.23285612 0.5030963  1.70626044 1.83211498] 0.37735360253530714 [0.01291751]\n",
      "[0.03624984 0.03498164 0.05169679 0.04915306] [1.24683848 0.51659181 1.72616654 1.85254473] 0.35848592240854177 [0.01607493]\n",
      "[0.03701702 0.03687859 0.05297305 0.05388056] [1.25983354 0.52913223 1.74469912 1.87016541] 0.34056162628811465 [0.01891638]\n",
      "[0.03620487 0.03469467 0.05088205 0.05285716] [1.27244011 0.54169167 1.7627397  1.88851506] 0.3235335449737089 [0.02176749]\n",
      "[0.03719126 0.03555568 0.05094821 0.04846909] [1.2841536  0.55291656 1.77920176 1.90561612] 0.30735686772502346 [0.02437844]\n",
      "[0.03716705 0.03569608 0.05160404 0.05407074] [1.29558459 0.56384484 1.79486104 1.92051343] 0.2919890243387723 [0.02678475]\n",
      "[0.03644648 0.03572711 0.05171088 0.05318472] [1.30643696 0.5742677  1.80992885 1.93630149] 0.27738957312183365 [0.02918717]\n",
      "[0.03786701 0.03561772 0.050434   0.05346272] [1.31654683 0.58417803 1.82427291 1.95105438] 0.263520094465742 [0.03143713]\n",
      "[0.03702084 0.03558473 0.04895466 0.03195655] [1.32652555 0.59356402 1.83756328 1.96514288] 0.25034408974245487 [0.0335807]\n",
      "[0.03576848 0.03573002 0.05135712 0.04710685] [1.3357935  0.60247244 1.84981879 1.97314301] 0.2378268852553321 [0.03528988]\n",
      "[0.03843472 0.03590901 0.0533441  0.0533535 ] [1.34430021 0.61097    1.8620329  1.98434629] 0.2259355409925655 [0.03711021]\n",
      "[0.0356629  0.03409074 0.04876231 0.05199117] [1.35298398 0.61908313 1.87408522 1.99640074] 0.2146387639429372 [0.03899757]\n",
      "[0.03524032 0.03406714 0.05144293 0.04933979] [1.36063862 0.62640032 1.88455151 2.00756006] 0.20390682574579033 [0.04067056]\n",
      "[0.03684811 0.01709977 0.05229068 0.05003179] [1.36782436 0.63334684 1.89504107 2.01762078] 0.1937114844585008 [0.042239]\n",
      "[ 0.03694003  0.02963416 -0.01729224  0.05421179] [1.37496226 0.63665926 1.90517038 2.02731251] 0.18402591023557577 [0.04364906]\n",
      "[0.0378287  0.03659169 0.05259728 0.05201413] [1.38176018 0.64211272 1.90198816 2.03728889] 0.17482461472379698 [0.04445665]\n",
      "[0.0392211  0.03595881 0.05665612 0.05234121] [1.38837357 0.64850985 1.91118346 2.04638223] 0.16608338398760714 [0.04587767]\n",
      "[0.03815061 0.03540751 0.05173551 0.05126205] [1.39488754 0.65448201 1.9205931  2.05507524] 0.15777921478822676 [0.04727833]\n",
      "[0.05808709 0.05528321 0.07000995 0.07381699] [1.40090692 0.66006858 1.92875588 2.06316333] 0.14989025404881542 [0.04833716]\n",
      "[0.03704493 0.0354007  0.05317103 0.05095655] [1.40961361 0.66835499 1.93924969 2.07422777] 0.14239574134637464 [0.05026924]\n",
      "[0.03592468 0.0338444  0.05032872 0.05237529] [1.41488865 0.6733959  1.94682102 2.08148377] 0.1352759542790559 [0.05142694]\n",
      "[0.04074916 0.03687338 0.04689634 0.05064846] [1.41974839 0.67797423 1.95362929 2.08856889] 0.1285121565651031 [0.05245754]\n",
      "[0.03582034 0.03275167 0.04758961 0.04804612] [1.42498515 0.68271291 1.95965604 2.09507783] 0.12208654873684793 [0.05349843]\n",
      "[0.0388917  0.0326202  0.05333439 0.05671677] [1.42935834 0.68671145 1.96546609 2.10094361] 0.11598222130000553 [0.05436895]\n",
      "[0.01887386 0.03085967 0.04743989 0.05575112] [1.43386908 0.69049481 1.97165193 2.10752175] 0.11018311023500525 [0.0553216]\n",
      "[0.0223457  0.0237178  0.04801754 0.04588683] [1.43594866 0.69389503 1.976879   2.11366458] 0.10467395472325498 [0.05615122]\n"
     ]
    }
   ],
   "source": [
    "gain, t, res, u = stackelberg()"
   ]
  },
  {
   "cell_type": "code",
   "execution_count": 19,
   "metadata": {},
   "outputs": [
    {
     "data": {
      "text/plain": [
       "array([0.05676466])"
      ]
     },
     "execution_count": 19,
     "metadata": {},
     "output_type": "execute_result"
    }
   ],
   "source": [
    "gain"
   ]
  },
  {
   "cell_type": "code",
   "execution_count": 20,
   "metadata": {},
   "outputs": [
    {
     "data": {
      "text/plain": [
       "<function matplotlib.pyplot.show(*args, **kw)>"
      ]
     },
     "execution_count": 20,
     "metadata": {},
     "output_type": "execute_result"
    },
    {
     "data": {
      "image/png": "[encoded data removed]",
      "text/plain": [
       "<Figure size 432x288 with 1 Axes>"
      ]
     },
     "metadata": {
      "needs_background": "light"
     },
     "output_type": "display_data"
    }
   ],
   "source": [
    "plt.plot(t, np.swapaxes(u,0, 1))\n",
    "plt.show"
   ]
  },
  {
   "cell_type": "code",
   "execution_count": 21,
   "metadata": {},
   "outputs": [
    {
     "data": {
      "text/plain": [
       "<function matplotlib.pyplot.show(*args, **kw)>"
      ]
     },
     "execution_count": 21,
     "metadata": {},
     "output_type": "execute_result"
    },
    {
     "data": {
      "image/png": "[encoded data removed]",
      "text/plain": [
       "<Figure size 432x288 with 1 Axes>"
      ]
     },
     "metadata": {
      "needs_background": "light"
     },
     "output_type": "display_data"
    }
   ],
   "source": [
    "plt.plot(t, np.swapaxes(res,0, 1))\n",
    "plt.show"
   ]
  },
  {
   "cell_type": "code",
   "execution_count": 22,
   "metadata": {},
   "outputs": [
    {
     "data": {
      "text/plain": [
       "array([1.43828767, 0.69637766, 1.98190519, 2.11846774])"
      ]
     },
     "execution_count": 22,
     "metadata": {},
     "output_type": "execute_result"
    }
   ],
   "source": [
    "g_coefs"
   ]
  },
  {
   "cell_type": "code",
   "execution_count": null,
   "metadata": {},
   "outputs": [],
   "source": [
    "a = np.array([-1.0,0.5])\n",
    "abs(a.max())"
   ]
  },
  {
   "cell_type": "code",
   "execution_count": null,
   "metadata": {},
   "outputs": [],
   "source": []
  }
 ],
 "metadata": {
  "kernelspec": {
   "display_name": "Python 3",
   "language": "python",
   "name": "python3"
  },
  "language_info": {
   "codemirror_mode": {
    "name": "ipython",
    "version": 3
   },
   "file_extension": ".py",
   "mimetype": "text/x-python",
   "name": "python",
   "nbconvert_exporter": "python",
   "pygments_lexer": "ipython3",
   "version": "3.6.9"
  }
 },
 "nbformat": 4,
 "nbformat_minor": 2
}
